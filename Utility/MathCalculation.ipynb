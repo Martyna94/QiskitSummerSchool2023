{
 "cells": [
  {
   "cell_type": "markdown",
   "metadata": {
    "collapsed": true,
    "pycharm": {
     "name": "#%% md\n"
    }
   },
   "source": [
    "# Calculation by hand in Qiskit Quantum Summer School\n"
   ]
  },
  {
   "cell_type": "markdown",
   "source": [
    "## Estimating Observables\n",
    "$<O> $- expectation value of an operator O - $\\Bra{\\psi}$O$\\Ket{\\psi}$\n",
    "$<X+iY> = <HZH>+<ZHZH>$\n",
    "$$X = \\begin{pmatrix}\n",
    "0 & 1 \\\\\n",
    "1 & 0\n",
    "\\end{pmatrix}$$\n",
    "$$Y = \\begin{pmatrix}\n",
    "0 & -i \\\\\n",
    "i & 0\n",
    "\\end{pmatrix}$$\n",
    "$$Z = \\begin{pmatrix}\n",
    "1 & 0 \\\\\n",
    "0 & -1\n",
    "\\end{pmatrix}$$\n",
    "$$H =\\frac{1}{\\sqrt{2}} \\begin{pmatrix}\n",
    "1 & 1 \\\\\n",
    "1 & -1\n",
    "\\end{pmatrix}$$\n",
    "\n",
    "$$HZH = \\frac{1}{\\sqrt{2}} \\begin{pmatrix}1 & 1 \\\\1 & -1\\end{pmatrix}  *  \\begin{pmatrix}1 & 0 \\\\0 & -1\\end{pmatrix} * \\frac{1}{\\sqrt{2}} \\begin{pmatrix}1 & 1 \\\\1 & -1 \\end{pmatrix} = \\frac{1}{2}\\begin{pmatrix}1&1\\\\1&-1\\end{pmatrix}\n",
    "$$\n"
   ],
   "metadata": {
    "collapsed": false
   }
  },
  {
   "cell_type": "code",
   "execution_count": null,
   "outputs": [],
   "source": [],
   "metadata": {
    "collapsed": false,
    "pycharm": {
     "name": "#%%\n"
    }
   }
  }
 ],
 "metadata": {
  "kernelspec": {
   "display_name": "Python 3",
   "language": "python",
   "name": "python3"
  },
  "language_info": {
   "codemirror_mode": {
    "name": "ipython",
    "version": 2
   },
   "file_extension": ".py",
   "mimetype": "text/x-python",
   "name": "python",
   "nbconvert_exporter": "python",
   "pygments_lexer": "ipython2",
   "version": "2.7.6"
  }
 },
 "nbformat": 4,
 "nbformat_minor": 0
}