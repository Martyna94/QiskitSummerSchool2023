{
 "cells": [
  {
   "cell_type": "markdown",
   "metadata": {
    "collapsed": true,
    "pycharm": {
     "name": "#%% md\n"
    }
   },
   "source": [
    "# Iterative Quantum Phase Estimation Algorithm\n",
    "\n",
    "The goal of this tutorial is to understand how the Iterative Phase Estimation (IPE) algorithm works, why would we use the IPE algorithm instead of the QPE (Quantum Phase Estimation) algorithm and how to build it with Qiskit using the same circuit exploiting reset gate and the c_if method that allows to apply gates conditioned by the values stored in a classical register, resulting from previous measurements."
   ]
  },
  {
   "cell_type": "markdown",
   "source": [
    "# IPE example with a 1-qubit gate for U\n",
    "We want to apply the IPE algorithm to estimate the phase for 1-qubit operator U. For example, here we use the S-gate.\n",
    "Let's apply the IPE algorithm to estimate the phase for S-gate. Its matrix is\n",
    "$$S = \\begin{pmatrix}\n",
    "1 & 0 \\\\\n",
    "0 & e^{\\frac{i \\pi}{2}}\n",
    "\\end{pmatrix}$$\n",
    "That is, the S-gate adds a phase $\\pi/2$ to the state $\\Ket{1}$, leaving unchanged the phase of the state $\\Ket{0}$\n",
    "$$S\\Ket{1} = e^{\\frac{i \\pi}{2}}\\Ket{1}$$\n",
    "In the following, we will use the notation and terms used [Section 2 of lab 6.](https://learn.qiskit.org/course/ch-labs/lab-6-iterative-phase-estimation-algorithm#lab-15-0)\n",
    "Let's consider to estimate the phase $\\phi = \\frac{\\pi}{2}$ for the eigenstate $\\Ket{1}$, we should find "
   ],
   "metadata": {
    "collapsed": false
   }
  },
  {
   "cell_type": "code",
   "execution_count": null,
   "outputs": [],
   "source": [],
   "metadata": {
    "collapsed": false,
    "pycharm": {
     "name": "#%%\n"
    }
   }
  }
 ],
 "metadata": {
  "kernelspec": {
   "display_name": "Python 3",
   "language": "python",
   "name": "python3"
  },
  "language_info": {
   "codemirror_mode": {
    "name": "ipython",
    "version": 2
   },
   "file_extension": ".py",
   "mimetype": "text/x-python",
   "name": "python",
   "nbconvert_exporter": "python",
   "pygments_lexer": "ipython2",
   "version": "2.7.6"
  }
 },
 "nbformat": 4,
 "nbformat_minor": 0
}