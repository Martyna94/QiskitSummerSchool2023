{
 "cells": [
  {
   "cell_type": "markdown",
   "metadata": {
    "collapsed": true,
    "pycharm": {
     "name": "#%% md\n"
    }
   },
   "source": [
    "# Qiskit Global Summer School 2023 - Lab 1\n",
    "This lab shows you how to use Qiskit to implement some of the key concepts you learned in the first 3 lectures of the Qiskit Global Summer School 2023."
   ]
  },
  {
   "cell_type": "code",
   "execution_count": 4,
   "outputs": [],
   "source": [
    "# required imports:\n",
    "from qiskit.visualization import array_to_latex\n",
    "from qiskit.quantum_info import Statevector, random_statevector\n",
    "from qiskit.quantum_info.operators import Operator, Pauli\n",
    "from qiskit import QuantumCircuit\n",
    "from qiskit.circuit.library import HGate, CXGate\n",
    "import numpy as np"
   ],
   "metadata": {
    "collapsed": false,
    "pycharm": {
     "name": "#%%\n"
    }
   }
  },
  {
   "cell_type": "markdown",
   "source": [
    "## Vectors and Dirac Notation\n",
    "In the lectures you learned different ways of representing quantum states, including how to use bra-ket (Dirac) notation. Although bra-ket notation cannot be represented exactly in code, we can represent their vector and matrix equivalent with python.\n",
    "\n",
    "E.g. we can represent $|0\\rangle$ using a python list:"
   ],
   "metadata": {
    "collapsed": false
   }
  },
  {
   "cell_type": "code",
   "execution_count": 22,
   "outputs": [],
   "source": [
    "ket0 = [[1],[0]]"
   ],
   "metadata": {
    "collapsed": false,
    "pycharm": {
     "name": "#%%\n"
    }
   }
  },
  {
   "cell_type": "markdown",
   "source": [
    "And we can use one of Qiskit's visualisation tools to make our vectors nicer to look at:"
   ],
   "metadata": {
    "collapsed": false
   }
  },
  {
   "cell_type": "code",
   "execution_count": 6,
   "outputs": [
    {
     "data": {
      "text/plain": "<IPython.core.display.Latex object>",
      "text/latex": "$$\n\n\\begin{bmatrix}\n1  \\\\\n 0  \\\\\n \\end{bmatrix}\n$$"
     },
     "execution_count": 6,
     "metadata": {},
     "output_type": "execute_result"
    }
   ],
   "source": [
    "array_to_latex(ket0)"
   ],
   "metadata": {
    "collapsed": false,
    "pycharm": {
     "name": "#%%\n"
    }
   }
  },
  {
   "cell_type": "markdown",
   "source": [
    "We can do the same with $\\langle0|$:"
   ],
   "metadata": {
    "collapsed": false
   }
  },
  {
   "cell_type": "code",
   "execution_count": 23,
   "outputs": [
    {
     "data": {
      "text/plain": "<IPython.core.display.Latex object>",
      "text/latex": "$$\n\n\\begin{bmatrix}\n1 & 0  \\\\\n \\end{bmatrix}\n$$"
     },
     "execution_count": 23,
     "metadata": {},
     "output_type": "execute_result"
    }
   ],
   "source": [
    "bra0 = [1,0]\n",
    "array_to_latex(bra0)"
   ],
   "metadata": {
    "collapsed": false,
    "pycharm": {
     "name": "#%%\n"
    }
   }
  },
  {
   "cell_type": "markdown",
   "source": [
    "<div class=\"alert alert-block alert-success\"> Ex 1 - create $|1\\rangle$ and $\\langle1|$ with python lists </div>"
   ],
   "metadata": {
    "collapsed": false
   }
  },
  {
   "cell_type": "code",
   "execution_count": 24,
   "outputs": [
    {
     "data": {
      "text/plain": "<IPython.core.display.Latex object>",
      "text/latex": "$$\n\n\\begin{bmatrix}\n0  \\\\\n 1  \\\\\n \\end{bmatrix}\n$$"
     },
     "execution_count": 24,
     "metadata": {},
     "output_type": "execute_result"
    }
   ],
   "source": [
    "ket1 = [[0],[1]]\n",
    "bra1 = [0,1]\n",
    "array_to_latex(ket1)"
   ],
   "metadata": {
    "collapsed": false,
    "pycharm": {
     "name": "#%%\n"
    }
   }
  },
  {
   "cell_type": "code",
   "execution_count": 8,
   "outputs": [
    {
     "data": {
      "text/plain": "<IPython.core.display.Latex object>",
      "text/latex": "$$\n\n\\begin{bmatrix}\n0 & 1  \\\\\n \\end{bmatrix}\n$$"
     },
     "execution_count": 8,
     "metadata": {},
     "output_type": "execute_result"
    }
   ],
   "source": [
    "array_to_latex(bra1)"
   ],
   "metadata": {
    "collapsed": false,
    "pycharm": {
     "name": "#%%\n"
    }
   }
  },
  {
   "cell_type": "markdown",
   "source": [
    "## Qiskit `Statevector` Class\n",
    "\n",
    "In the lectures you learned about using state vectors to represent quantum states. You can represent quantum state vectors in code using Qiskit's [Statevector class](https://qiskit.org/documentation/stubs/qiskit.quantum_info.Statevector.html).\n",
    "\n",
    "Qiskit's `Statevector` class can take different forms of input (e.g. python list, numpy array, another state vector) to construct a state vector.\n",
    "\n",
    "Let's take the `bra0` object we created earlier and convert it to a `Statevector` object:"
   ],
   "metadata": {
    "collapsed": false
   }
  },
  {
   "cell_type": "code",
   "execution_count": 13,
   "outputs": [
    {
     "name": "stdout",
     "output_type": "stream",
     "text": [
      "Statevector([1.+0.j, 0.+0.j],\n",
      "            dims=(2,))\n"
     ]
    }
   ],
   "source": [
    "sv_bra0 = Statevector(bra0)\n",
    "sv_bra0"
   ],
   "metadata": {
    "collapsed": false,
    "pycharm": {
     "name": "#%%\n"
    }
   }
  },
  {
   "cell_type": "code",
   "execution_count": 9,
   "outputs": [
    {
     "name": "stdout",
     "output_type": "stream",
     "text": [
      "Statevector([1.+0.j, 0.+0.j],\n",
      "            dims=(2,))\n"
     ]
    }
   ],
   "source": [
    "sv_ket_0 = Statevector(ket0)\n",
    "sv_ket_0"
   ],
   "metadata": {
    "collapsed": false,
    "pycharm": {
     "name": "#%%\n"
    }
   }
  },
  {
   "cell_type": "markdown",
   "source": [],
   "metadata": {
    "collapsed": false
   }
  },
  {
   "cell_type": "markdown",
   "source": [
    "We can create more complex statevectors with multiple qubits like this:"
   ],
   "metadata": {
    "collapsed": false
   }
  },
  {
   "cell_type": "code",
   "execution_count": 11,
   "outputs": [
    {
     "data": {
      "text/plain": "<IPython.core.display.Latex object>",
      "text/latex": "$$\\frac{1}{2} |00\\rangle+\\frac{3}{4} |01\\rangle+\\frac{4}{5} |10\\rangle+\\frac{3}{4} |11\\rangle$$"
     },
     "execution_count": 11,
     "metadata": {},
     "output_type": "execute_result"
    }
   ],
   "source": [
    "sv_eq = Statevector([1/2,3/4,4/5,6/8])\n",
    "sv_eq.draw('latex')"
   ],
   "metadata": {
    "collapsed": false,
    "pycharm": {
     "name": "#%%\n"
    }
   }
  },
  {
   "cell_type": "markdown",
   "source": [
    "Note that the vector above is not a valid state vector as it is not normalised.\n",
    "We can check this with the `is_valid()` method:"
   ],
   "metadata": {
    "collapsed": false
   }
  },
  {
   "cell_type": "code",
   "execution_count": 12,
   "outputs": [
    {
     "data": {
      "text/plain": "False"
     },
     "execution_count": 12,
     "metadata": {},
     "output_type": "execute_result"
    }
   ],
   "source": [
    "sv_eq.is_valid()"
   ],
   "metadata": {
    "collapsed": false,
    "pycharm": {
     "name": "#%%\n"
    }
   }
  },
  {
   "cell_type": "markdown",
   "source": [
    "<div class=\"alert alert-block alert-success\"> Ex 2 - create your own valid statevector object using the `Statevector` class </div>"
   ],
   "metadata": {
    "collapsed": false
   }
  },
  {
   "cell_type": "code",
   "execution_count": 16,
   "outputs": [],
   "source": [
    "def normalize_state(state):\n",
    "    norm = np.linalg.norm(state)\n",
    "    normalized_state = state / norm\n",
    "    return normalized_state\n",
    "\n",
    "sv_valid = normalize_state(sv_eq)"
   ],
   "metadata": {
    "collapsed": false,
    "pycharm": {
     "name": "#%%\n"
    }
   }
  },
  {
   "cell_type": "code",
   "execution_count": 17,
   "outputs": [
    {
     "data": {
      "text/plain": "True"
     },
     "execution_count": 17,
     "metadata": {},
     "output_type": "execute_result"
    }
   ],
   "source": [
    "sv_valid.is_valid()"
   ],
   "metadata": {
    "collapsed": false,
    "pycharm": {
     "name": "#%%\n"
    }
   }
  },
  {
   "cell_type": "markdown",
   "source": [
    "## Qiskit Operator Class\n",
    "\n",
    "The [`Operator` class](https://qiskit.org/documentation/stubs/qiskit.quantum_info.Operator.html#qiskit.quantum_info.Operator) is used in Qiskit to represent matrix operators acting on a quantum system. It has several methods to build composite operators using tensor products of smaller operators, and to compose operators.\n",
    "\n",
    "One way we can initialise a Qiskit `Operator` is by using a python list, like the one we created earlier:"
   ],
   "metadata": {
    "collapsed": false,
    "pycharm": {
     "name": "#%% md\n"
    }
   }
  },
  {
   "cell_type": "code",
   "execution_count": 25,
   "outputs": [
    {
     "data": {
      "text/plain": "Operator([1.+0.j, 0.+0.j],\n         input_dims=(), output_dims=(2,))"
     },
     "execution_count": 25,
     "metadata": {},
     "output_type": "execute_result"
    }
   ],
   "source": [
    "op_bra0 = Operator(bra0)\n",
    "op_bra0"
   ],
   "metadata": {
    "collapsed": false,
    "pycharm": {
     "name": "#%%\n"
    }
   }
  },
  {
   "cell_type": "markdown",
   "source": [
    "The Operator class comes with some handy methods for working with operators, for example we can find the tensor product of 2 operators by using the `tensor()` method:"
   ],
   "metadata": {
    "collapsed": false,
    "pycharm": {
     "name": "#%% md\n"
    }
   }
  },
  {
   "cell_type": "code",
   "execution_count": 26,
   "outputs": [
    {
     "data": {
      "text/plain": "Operator([[1.+0.j],\n          [0.+0.j]],\n         input_dims=(), output_dims=(2,))"
     },
     "execution_count": 26,
     "metadata": {},
     "output_type": "execute_result"
    }
   ],
   "source": [
    "op_ket0 = Operator(ket0)\n",
    "op_ket0"
   ],
   "metadata": {
    "collapsed": false,
    "pycharm": {
     "name": "#%%\n"
    }
   }
  },
  {
   "cell_type": "markdown",
   "source": [
    "## Inner & Outer Product\n",
    "\n",
    "In the lectures you covered the concepts of the inner and outer product. We can explore these concepts in code using numpy methods `.dot()` (the inner product is a generalised form of the dot product) and `.outer()`.\n",
    "\n",
    "For example, we can find the inner product $\\langle0|0\\rangle$ like this:"
   ],
   "metadata": {
    "collapsed": false
   }
  },
  {
   "cell_type": "code",
   "execution_count": 27,
   "outputs": [
    {
     "data": {
      "text/plain": "<IPython.core.display.Latex object>",
      "text/latex": "$$\n\n\\begin{bmatrix}\n1  \\\\\n \\end{bmatrix}\n$$"
     },
     "execution_count": 27,
     "metadata": {},
     "output_type": "execute_result"
    }
   ],
   "source": [
    "braket = np.dot(op_bra0,op_ket0)\n",
    "array_to_latex(braket)"
   ],
   "metadata": {
    "collapsed": false,
    "pycharm": {
     "name": "#%%\n"
    }
   }
  },
  {
   "cell_type": "markdown",
   "source": [
    "and the outer product $|0\\rangle\\langle0|$ like this:"
   ],
   "metadata": {
    "collapsed": false
   }
  },
  {
   "cell_type": "code",
   "execution_count": 29,
   "outputs": [
    {
     "data": {
      "text/plain": "<IPython.core.display.Latex object>",
      "text/latex": "$$\n\n\\begin{bmatrix}\n1 & 0  \\\\\n 0 & 0  \\\\\n \\end{bmatrix}\n$$"
     },
     "execution_count": 29,
     "metadata": {},
     "output_type": "execute_result"
    }
   ],
   "source": [
    "ketbra = np.outer(ket0,bra0)\n",
    "array_to_latex(ketbra)"
   ],
   "metadata": {
    "collapsed": false,
    "pycharm": {
     "name": "#%%\n"
    }
   }
  },
  {
   "cell_type": "markdown",
   "source": [
    "Note: the numpy methods we used above work with Qiskit Operators as well as regular python lists."
   ],
   "metadata": {
    "collapsed": false
   }
  },
  {
   "cell_type": "markdown",
   "source": [
    "<div class=\"alert alert-block alert-success\"> Ex 3 - use numpy to find the result of the following inner and outer products: $\\langle1|0\\rangle, \\langle0|1\\rangle, \\langle1|1\\rangle, |1\\rangle\\langle0|, |0\\rangle\\langle1|$ and $|1\\rangle\\langle1| $ </div>"
   ],
   "metadata": {
    "collapsed": false
   }
  },
  {
   "cell_type": "code",
   "execution_count": 30,
   "outputs": [],
   "source": [
    "bra1ket0 = np.dot(bra1,ket0)# put your answer for ⟨1|0⟩ here\n",
    "\n",
    "bra0ket1 = np.dot(bra0,ket1)# put your answer for ⟨0|1⟩ here\n",
    "\n",
    "bra1ket1 = np.dot(bra1,ket1)# put your answer for ⟨1|1⟩ here\n",
    "\n",
    "ket1bra0 = np.outer(ket1,bra0)# put your answer for |1⟩⟨0| here\n",
    "\n",
    "ket0bra1 = np.outer(ket0,bra1)# put your answer for |0⟩⟨1| here\n",
    "\n",
    "ket1bra1 = np.outer(ket1,bra1)# put your answer for |1⟩⟨1| here"
   ],
   "metadata": {
    "collapsed": false,
    "pycharm": {
     "name": "#%%\n"
    }
   }
  },
  {
   "cell_type": "markdown",
   "source": [
    "<div class=\"alert alert-block alert-success\">\n",
    "<p> Ex 4 - when the inner product of 2 quantum states is equal to 0, those states are orthogonal. Which of the following states are orthogonal? </p>\n",
    "<p>a) $\\vert 0\\rangle$ and $\\vert 1\\rangle$ </p>\n",
    "<p>b) $\\vert 0\\rangle$ and $\\vert 0\\rangle$ </p>\n",
    "<p>c) $\\vert 1\\rangle$ and $\\vert 1\\rangle$ </p>\n",
    "</div>"
   ],
   "metadata": {
    "collapsed": false,
    "pycharm": {
     "name": "#%% md\n"
    }
   }
  },
  {
   "cell_type": "markdown",
   "source": [
    "## Deterministic operations\n",
    "\n",
    "As mentioned in the lectures, there are 4 single bit deterministic operations:\n",
    "f1 = constant-0\n",
    "f2 = identity\n",
    "f3 = bit flip / not\n",
    "f4 = constant-1\n",
    "\n",
    "$$\n",
    "\\begin{array}{c|c}\n",
    "  a & f_1(a)\\\\\n",
    "  \\hline\n",
    "  0 & 0\\\\\n",
    "  1 & 0\n",
    "\\end{array}\n",
    "\\qquad\n",
    "\\begin{array}{c|c}\n",
    "  a & f_2(a)\\\\\n",
    "  \\hline\n",
    "  0 & 0\\\\\n",
    "  1 & 1\n",
    "\\end{array}\n",
    "\\qquad\n",
    "\\begin{array}{c|c}\n",
    "  a & f_3(a)\\\\\n",
    "  \\hline\n",
    "  0 & 1\\\\\n",
    "  1 & 0\n",
    "\\end{array}\n",
    "\\qquad\n",
    "\\begin{array}{c|c}\n",
    "  a & f_4(a)\\\\\n",
    "  \\hline\n",
    "  0 & 1\\\\\n",
    "  1 & 1\n",
    "\\end{array}\n",
    "$$\n",
    "\n",
    "We can create Qiskit Operators for these 4 operations, by passing their matrix representations as arguments to the `Operator` class.\n",
    "\n",
    "E.g. for constant-0 we can create the corresponding matrix m1 like so:\n",
    "$$M_{1} = \\begin{bmatrix}\n",
    "1 & 1 \\\\\n",
    "0 & 0\n",
    "\\end{bmatrix}$$\n",
    "\n",
    "$$M_{2} = \\begin{bmatrix}\n",
    "1 & 0 \\\\\n",
    "0 & 1\n",
    "\\end{bmatrix}$$\n",
    "$$M_{3} = \\begin{bmatrix}\n",
    "0 & 1 \\\\\n",
    "1 & 0\n",
    "\\end{bmatrix}$$\n",
    "$$M_{4} = \\begin{bmatrix}\n",
    "0 & 0 \\\\\n",
    "1 & 1\n",
    "\\end{bmatrix}$$\n",
    "\n"
   ],
   "metadata": {
    "collapsed": false
   }
  },
  {
   "cell_type": "code",
   "execution_count": 28,
   "outputs": [
    {
     "data": {
      "text/plain": "<IPython.core.display.Latex object>",
      "text/latex": "$$\n\n\\begin{bmatrix}\n1 & 1  \\\\\n 0 & 0  \\\\\n \\end{bmatrix}\n$$"
     },
     "execution_count": 28,
     "metadata": {},
     "output_type": "execute_result"
    }
   ],
   "source": [
    "m1 = Operator([[1,1],[0,0]])\n",
    "array_to_latex(m1)"
   ],
   "metadata": {
    "collapsed": false,
    "pycharm": {
     "name": "#%%\n"
    }
   }
  },
  {
   "cell_type": "markdown",
   "source": [
    "and similarly for m3:"
   ],
   "metadata": {
    "collapsed": false
   }
  },
  {
   "cell_type": "code",
   "execution_count": 29,
   "outputs": [
    {
     "data": {
      "text/plain": "<IPython.core.display.Latex object>",
      "text/latex": "$$\n\n\\begin{bmatrix}\n0 & 1  \\\\\n 1 & 0  \\\\\n \\end{bmatrix}\n$$"
     },
     "execution_count": 29,
     "metadata": {},
     "output_type": "execute_result"
    }
   ],
   "source": [
    "m3 = Operator([[0,1],[1,0]])\n",
    "array_to_latex(m3)"
   ],
   "metadata": {
    "collapsed": false,
    "pycharm": {
     "name": "#%%\n"
    }
   }
  },
  {
   "cell_type": "markdown",
   "source": [
    "We can also use builtin python mutliplication operations (e.g. `@`, `.dot`, or `.matmul`) to check the following equation: $ M|a\\rangle = f|a\\rangle $\n",
    "\n",
    "e.g. $ M1|0\\rangle = f1|0\\rangle $ = 0"
   ],
   "metadata": {
    "collapsed": false
   }
  },
  {
   "cell_type": "code",
   "execution_count": 30,
   "outputs": [
    {
     "data": {
      "text/plain": "<IPython.core.display.Latex object>",
      "text/latex": "$$\n\n\\begin{bmatrix}\n1  \\\\\n 0  \\\\\n \\end{bmatrix}\n$$"
     },
     "execution_count": 30,
     "metadata": {},
     "output_type": "execute_result"
    }
   ],
   "source": [
    "array_to_latex(m1@ket0)"
   ],
   "metadata": {
    "collapsed": false,
    "pycharm": {
     "name": "#%%\n"
    }
   }
  },
  {
   "cell_type": "markdown",
   "source": [
    "<div class=\"alert alert-block alert-success\"> Ex 5 - create Qiskit Operators for m2 and m4 (hint: check out the lectures to find the appropriate matrices) </div>"
   ],
   "metadata": {
    "collapsed": false
   }
  },
  {
   "cell_type": "code",
   "execution_count": 31,
   "outputs": [],
   "source": [
    "m2 = Operator.from_label('I')# create an operator for m2 here\n",
    "m4 = Operator([[0,0],[1,1]])# create and operator for m4 here"
   ],
   "metadata": {
    "collapsed": false,
    "pycharm": {
     "name": "#%%\n"
    }
   }
  },
  {
   "cell_type": "code",
   "source": [
    "array_to_latex(m2)"
   ],
   "metadata": {
    "collapsed": false,
    "pycharm": {
     "name": "#%%\n"
    }
   },
   "execution_count": 32,
   "outputs": [
    {
     "data": {
      "text/plain": "<IPython.core.display.Latex object>",
      "text/latex": "$$\n\n\\begin{bmatrix}\n1 & 0  \\\\\n 0 & 1  \\\\\n \\end{bmatrix}\n$$"
     },
     "execution_count": 32,
     "metadata": {},
     "output_type": "execute_result"
    }
   ]
  },
  {
   "cell_type": "code",
   "execution_count": 33,
   "outputs": [
    {
     "data": {
      "text/plain": "<IPython.core.display.Latex object>",
      "text/latex": "$$\n\n\\begin{bmatrix}\n0 & 0  \\\\\n 1 & 1  \\\\\n \\end{bmatrix}\n$$"
     },
     "execution_count": 33,
     "metadata": {},
     "output_type": "execute_result"
    }
   ],
   "source": [
    "array_to_latex(m4)"
   ],
   "metadata": {
    "collapsed": false,
    "pycharm": {
     "name": "#%%\n"
    }
   }
  },
  {
   "cell_type": "markdown",
   "source": [
    "## Probabilistic operations\n",
    "\n",
    "A Controlled-NOT (or CNOT) operation is a probabilistic operation you can apply on 2 qubits.\n",
    "\n",
    "Applying a CNOT on a state (X,Y) involves performing a NOT operation on Y when X is 1, otherwise do nothing.\n",
    "X is the control bit, Y is the target bit.\n",
    "\n",
    "We can implement a CNOT gate (and many other quantum gates) using a class from [Qiskit's circuit library](https://qiskit.org/documentation/apidoc/circuit_library.html):"
   ],
   "metadata": {
    "collapsed": false,
    "pycharm": {
     "name": "#%% md\n"
    }
   }
  },
  {
   "cell_type": "code",
   "execution_count": 34,
   "outputs": [
    {
     "data": {
      "text/plain": "<IPython.core.display.Latex object>",
      "text/latex": "$$\n\n\\begin{bmatrix}\n1 & 0 & 0 & 0  \\\\\n 0 & 0 & 0 & 1  \\\\\n 0 & 0 & 1 & 0  \\\\\n 0 & 1 & 0 & 0  \\\\\n \\end{bmatrix}\n$$"
     },
     "execution_count": 34,
     "metadata": {},
     "output_type": "execute_result"
    }
   ],
   "source": [
    "cnot = CXGate()\n",
    "\n",
    "array_to_latex(cnot)"
   ],
   "metadata": {
    "collapsed": false,
    "pycharm": {
     "name": "#%%\n"
    }
   }
  },
  {
   "cell_type": "markdown",
   "source": [
    "Note: this matrix is different from the one that appeared in the lesson because `CXGate()` takes the right qubit to be the control rather than the left qubit."
   ],
   "metadata": {
    "collapsed": false
   }
  },
  {
   "cell_type": "markdown",
   "source": [
    "## Unitary Operations\n",
    "\n",
    "An operator is unitary if: $ UU^{\\dagger} = \\mathbb{1} = U^{\\dagger} U$\n",
    "\n",
    "We can check if an operator is Unitary using Qiskit with the `is_unitary()` method:"
   ],
   "metadata": {
    "collapsed": false
   }
  },
  {
   "cell_type": "code",
   "execution_count": 35,
   "outputs": [
    {
     "data": {
      "text/plain": "True"
     },
     "execution_count": 35,
     "metadata": {},
     "output_type": "execute_result"
    }
   ],
   "source": [
    "m3.is_unitary()"
   ],
   "metadata": {
    "collapsed": false,
    "pycharm": {
     "name": "#%%\n"
    }
   }
  },
  {
   "cell_type": "markdown",
   "source": [
    "With small operators like m3 we could probably figure this out easily by ourselves, but with more complex operators it becomes more convenient to use the Qiskit function:"
   ],
   "metadata": {
    "collapsed": false
   }
  },
  {
   "cell_type": "code",
   "execution_count": 36,
   "outputs": [
    {
     "data": {
      "text/plain": "True"
     },
     "execution_count": 36,
     "metadata": {},
     "output_type": "execute_result"
    }
   ],
   "source": [
    "random = Operator(np.array([[ 0.50778085-0.44607116j, -0.1523741 +0.14128434j,  0.44607116+0.50778085j,\n",
    "                              -0.14128434-0.1523741j ],\n",
    "                            [ 0.16855994+0.12151822j,  0.55868196+0.38038841j, -0.12151822+0.16855994j,\n",
    "                              -0.38038841+0.55868196j],\n",
    "                            [ 0.50778085-0.44607116j, -0.1523741 +0.14128434j, -0.44607116-0.50778085j,\n",
    "                              0.14128434+0.1523741j ],\n",
    "                            [ 0.16855994+0.12151822j,  0.55868196+0.38038841j,  0.12151822-0.16855994j,\n",
    "                              0.38038841-0.55868196j]]))\n",
    "\n",
    "random.is_unitary()"
   ],
   "metadata": {
    "collapsed": false,
    "pycharm": {
     "name": "#%%\n"
    }
   }
  },
  {
   "cell_type": "markdown",
   "source": [
    "<div class=\"alert alert-block alert-success\"> Ex 6 - create an operator using the `Operator` class that is not unitary </div>"
   ],
   "metadata": {
    "collapsed": false
   }
  },
  {
   "cell_type": "code",
   "execution_count": 37,
   "outputs": [
    {
     "data": {
      "text/plain": "False"
     },
     "execution_count": 37,
     "metadata": {},
     "output_type": "execute_result"
    }
   ],
   "source": [
    "non_unitary_op = Operator(np.array([[1,0],[1,0]])) # create your operator here\n",
    "non_unitary_op.is_unitary()"
   ],
   "metadata": {
    "collapsed": false,
    "pycharm": {
     "name": "#%%\n"
    }
   }
  },
  {
   "cell_type": "markdown",
   "source": [
    "### Qubit Unitary Operations - Pauli Operations\n",
    "\n",
    "Some of the most common unitary operations in quantum computing are the Pauli operations. Qiskit's `Pauli` classes make it easy to interact with Pauli operators in code:\n",
    "E.g. Pauli X ($\\sigma_x$), the bit flip:"
   ],
   "metadata": {
    "collapsed": false
   }
  },
  {
   "cell_type": "code",
   "execution_count": 38,
   "outputs": [
    {
     "data": {
      "text/plain": "<IPython.core.display.Latex object>",
      "text/latex": "$$\n\n\\begin{bmatrix}\n0 & 1  \\\\\n 1 & 0  \\\\\n \\end{bmatrix}\n$$"
     },
     "execution_count": 38,
     "metadata": {},
     "output_type": "execute_result"
    }
   ],
   "source": [
    "pauli_x = Pauli('X')\n",
    "array_to_latex(pauli_x)"
   ],
   "metadata": {
    "collapsed": false,
    "pycharm": {
     "name": "#%%\n"
    }
   }
  },
  {
   "cell_type": "markdown",
   "source": [
    "Pauli Y ($\\sigma_y$):"
   ],
   "metadata": {
    "collapsed": false
   }
  },
  {
   "cell_type": "code",
   "execution_count": 39,
   "outputs": [
    {
     "data": {
      "text/plain": "<IPython.core.display.Latex object>",
      "text/latex": "$$\n\n\\begin{bmatrix}\n0 & - i  \\\\\n i & 0  \\\\\n \\end{bmatrix}\n$$"
     },
     "execution_count": 39,
     "metadata": {},
     "output_type": "execute_result"
    }
   ],
   "source": [
    "pauli_y = Pauli('Y')\n",
    "array_to_latex(pauli_y)"
   ],
   "metadata": {
    "collapsed": false,
    "pycharm": {
     "name": "#%%\n"
    }
   }
  },
  {
   "cell_type": "markdown",
   "source": [
    "Pauli Z ($\\sigma_z$), the phase flip:"
   ],
   "metadata": {
    "collapsed": false
   }
  },
  {
   "cell_type": "code",
   "execution_count": 40,
   "outputs": [
    {
     "data": {
      "text/plain": "<IPython.core.display.Latex object>",
      "text/latex": "$$\n\n\\begin{bmatrix}\n1 & 0  \\\\\n 0 & -1  \\\\\n \\end{bmatrix}\n$$"
     },
     "execution_count": 40,
     "metadata": {},
     "output_type": "execute_result"
    }
   ],
   "source": [
    "pauli_z = Pauli('Z')\n",
    "array_to_latex(pauli_z)"
   ],
   "metadata": {
    "collapsed": false,
    "pycharm": {
     "name": "#%%\n"
    }
   }
  },
  {
   "cell_type": "markdown",
   "source": [
    "We can use the `Operator` class with the `Pauli` class:"
   ],
   "metadata": {
    "collapsed": false
   }
  },
  {
   "cell_type": "code",
   "execution_count": 41,
   "outputs": [
    {
     "data": {
      "text/plain": "Operator([[0.+0.j, 1.+0.j],\n          [1.+0.j, 0.+0.j]],\n         input_dims=(2,), output_dims=(2,))"
     },
     "execution_count": 41,
     "metadata": {},
     "output_type": "execute_result"
    }
   ],
   "source": [
    "op_x = Operator(pauli_x)\n",
    "op_x"
   ],
   "metadata": {
    "collapsed": false,
    "pycharm": {
     "name": "#%%\n"
    }
   }
  },
  {
   "cell_type": "markdown",
   "source": [
    "Let's use the `Operator` class and numpy to find the outcome of $\\sigma_x|0\\rangle$"
   ],
   "metadata": {
    "collapsed": false
   }
  },
  {
   "cell_type": "code",
   "execution_count": 42,
   "outputs": [
    {
     "data": {
      "text/plain": "<IPython.core.display.Latex object>",
      "text/latex": "$$\n\n\\begin{bmatrix}\n0  \\\\\n 1  \\\\\n \\end{bmatrix}\n$$"
     },
     "execution_count": 42,
     "metadata": {},
     "output_type": "execute_result"
    }
   ],
   "source": [
    "op_new = np.dot(op_x,ket0)\n",
    "array_to_latex(op_new)"
   ],
   "metadata": {
    "collapsed": false,
    "pycharm": {
     "name": "#%%\n"
    }
   }
  },
  {
   "cell_type": "code",
   "execution_count": 43,
   "outputs": [
    {
     "data": {
      "text/plain": "<IPython.core.display.Latex object>",
      "text/latex": "$$\n\n\\begin{bmatrix}\n0  \\\\\n 1  \\\\\n \\end{bmatrix}\n$$"
     },
     "execution_count": 43,
     "metadata": {},
     "output_type": "execute_result"
    }
   ],
   "source": [
    "array_to_latex(op_x@ket0)"
   ],
   "metadata": {
    "collapsed": false,
    "pycharm": {
     "name": "#%%\n"
    }
   }
  },
  {
   "cell_type": "code",
   "execution_count": 46,
   "outputs": [
    {
     "data": {
      "text/plain": "<IPython.core.display.Latex object>",
      "text/latex": "$$\n\n\\begin{bmatrix}\n0  \\\\\n 1  \\\\\n \\end{bmatrix}\n$$"
     },
     "execution_count": 46,
     "metadata": {},
     "output_type": "execute_result"
    }
   ],
   "source": [
    "op_new = op_x.dot(ket0)\n",
    "array_to_latex(op_new)"
   ],
   "metadata": {
    "collapsed": false,
    "pycharm": {
     "name": "#%%\n"
    }
   }
  },
  {
   "cell_type": "markdown",
   "source": [
    "<div class=\"alert alert-block alert-success\"> Ex 7 - Apply the Pauli-Z operator on $|1\\rangle$ </div>"
   ],
   "metadata": {
    "collapsed": false
   }
  },
  {
   "cell_type": "code",
   "execution_count": 48,
   "outputs": [
    {
     "data": {
      "text/plain": "<IPython.core.display.Latex object>",
      "text/latex": "$$\n\n\\begin{bmatrix}\n0  \\\\\n -1  \\\\\n \\end{bmatrix}\n$$"
     },
     "execution_count": 48,
     "metadata": {},
     "output_type": "execute_result"
    }
   ],
   "source": [
    "op_z = Operator(pauli_z)\n",
    "result = op_z.dot(ket1)# do your operations here Operator result\n",
    "result = np.dot(op_z,ket1)# do your operations here np.array result\n",
    "array_to_latex(result)"
   ],
   "metadata": {
    "collapsed": false,
    "pycharm": {
     "name": "#%%\n"
    }
   }
  },
  {
   "cell_type": "markdown",
   "source": [
    "### Qubit Unitary Operations - Hadamard"
   ],
   "metadata": {
    "collapsed": false
   }
  },
  {
   "cell_type": "markdown",
   "source": [
    "The Hadamard gate is one of the most important unitary operations in quantum computing. We can implement a Hadamard gate (and many other quantum gates) using a class from [Qiskit's circuit library](https://qiskit.org/documentation/apidoc/circuit_library.html):"
   ],
   "metadata": {
    "collapsed": false
   }
  },
  {
   "cell_type": "markdown",
   "source": [],
   "metadata": {
    "collapsed": false
   }
  },
  {
   "cell_type": "code",
   "execution_count": 49,
   "outputs": [
    {
     "data": {
      "text/plain": "<IPython.core.display.Latex object>",
      "text/latex": "$$\n\n\\begin{bmatrix}\n\\frac{\\sqrt{2}}{2} & \\frac{\\sqrt{2}}{2}  \\\\\n \\frac{\\sqrt{2}}{2} & - \\frac{\\sqrt{2}}{2}  \\\\\n \\end{bmatrix}\n$$"
     },
     "execution_count": 49,
     "metadata": {},
     "output_type": "execute_result"
    }
   ],
   "source": [
    "hadamard = HGate()\n",
    "array_to_latex(hadamard)"
   ],
   "metadata": {
    "collapsed": false,
    "pycharm": {
     "name": "#%%\n"
    }
   }
  },
  {
   "cell_type": "markdown",
   "source": [
    "You can convert many Qiskit classes to operators to make use of functions specific to the `Operator` class, such as `is_unitary`"
   ],
   "metadata": {
    "collapsed": false
   }
  },
  {
   "cell_type": "code",
   "execution_count": 50,
   "outputs": [
    {
     "data": {
      "text/plain": "True"
     },
     "execution_count": 50,
     "metadata": {},
     "output_type": "execute_result"
    }
   ],
   "source": [
    "hop = Operator(hadamard)\n",
    "hop.is_unitary()"
   ],
   "metadata": {
    "collapsed": false,
    "pycharm": {
     "name": "#%%\n"
    }
   }
  },
  {
   "cell_type": "markdown",
   "source": [
    "## Quantum Circuits\n",
    "\n",
    "In the lectures you learned how to create a Quantum Circuit using a CNOT and a Hadamard gate. This circuit creates the Bell State $|\\phi^+\\rangle$. We can implement this using Qiskit's `QuantumCircuit` class:"
   ],
   "metadata": {
    "collapsed": false
   }
  },
  {
   "cell_type": "code",
   "execution_count": 51,
   "outputs": [
    {
     "data": {
      "text/plain": "<Figure size 287.294x200.667 with 1 Axes>",
      "image/png": "[encoded data removed]"
     },
     "execution_count": 51,
     "metadata": {},
     "output_type": "execute_result"
    }
   ],
   "source": [
    "bell = QuantumCircuit(2)\n",
    "bell.h(0)# apply an H gate to the circuit\n",
    "bell.cx(0,1) # apply an H gate to the circuit\n",
    "\n",
    "bell.draw(output=\"mpl\")"
   ],
   "metadata": {
    "collapsed": false,
    "pycharm": {
     "name": "#%%\n"
    }
   }
  },
  {
   "cell_type": "markdown",
   "source": [
    "If we want to check what the matrix representation is of this quantum state we can convert the circuit directly to an operator:"
   ],
   "metadata": {
    "collapsed": false
   }
  },
  {
   "cell_type": "code",
   "execution_count": 59,
   "outputs": [
    {
     "data": {
      "text/plain": "<IPython.core.display.Latex object>",
      "text/latex": "$$\n\n\\begin{bmatrix}\n\\frac{\\sqrt{2}}{2} & \\frac{\\sqrt{2}}{2} & 0 & 0  \\\\\n 0 & 0 & \\frac{\\sqrt{2}}{2} & - \\frac{\\sqrt{2}}{2}  \\\\\n 0 & 0 & \\frac{\\sqrt{2}}{2} & \\frac{\\sqrt{2}}{2}  \\\\\n \\frac{\\sqrt{2}}{2} & - \\frac{\\sqrt{2}}{2} & 0 & 0  \\\\\n \\end{bmatrix}\n$$"
     },
     "execution_count": 59,
     "metadata": {},
     "output_type": "execute_result"
    }
   ],
   "source": [
    "bell_op = Operator(bell)\n",
    "array_to_latex(bell_op)"
   ],
   "metadata": {
    "collapsed": false,
    "pycharm": {
     "name": "#%%\n"
    }
   }
  },
  {
   "cell_type": "markdown",
   "source": [
    "We read from bottom to top.\n",
    "$CNOT (I \\otimes H) $"
   ],
   "metadata": {
    "collapsed": false
   }
  },
  {
   "cell_type": "code",
   "execution_count": 62,
   "outputs": [
    {
     "data": {
      "text/plain": "<IPython.core.display.Latex object>",
      "text/latex": "$$\n\n\\begin{bmatrix}\n\\frac{\\sqrt{2}}{2} & \\frac{\\sqrt{2}}{2} & 0 & 0  \\\\\n 0 & 0 & \\frac{\\sqrt{2}}{2} & - \\frac{\\sqrt{2}}{2}  \\\\\n 0 & 0 & \\frac{\\sqrt{2}}{2} & \\frac{\\sqrt{2}}{2}  \\\\\n \\frac{\\sqrt{2}}{2} & - \\frac{\\sqrt{2}}{2} & 0 & 0  \\\\\n \\end{bmatrix}\n$$"
     },
     "execution_count": 62,
     "metadata": {},
     "output_type": "execute_result"
    }
   ],
   "source": [
    "had = Operator.from_label('I').tensor(hop)\n",
    "test_bell_op = Operator(cnot).dot(had)\n",
    "array_to_latex(test_bell_op)"
   ],
   "metadata": {
    "collapsed": false,
    "pycharm": {
     "name": "#%%\n"
    }
   }
  },
  {
   "cell_type": "markdown",
   "source": [
    "<div class=\"alert alert-block alert-success\"> Ex 8 - the GHZ state is similar to the Bell State but applied to 3 qubits. Create a quantum circuit outputting the GHZ state </div>"
   ],
   "metadata": {
    "collapsed": false
   }
  },
  {
   "cell_type": "markdown",
   "source": [
    "The GHZ (Greenberger-Horne-Zeilinger)\n",
    "$\\Ket{GHZ_3} = \\frac{1}{\\sqrt{2}}(\\Ket{000} + \\Ket{111})$"
   ],
   "metadata": {
    "collapsed": false
   }
  },
  {
   "cell_type": "code",
   "execution_count": 63,
   "outputs": [
    {
     "data": {
      "text/plain": "<Figure size 371.107x284.278 with 1 Axes>",
      "image/png": "[encoded data removed]"
     },
     "execution_count": 63,
     "metadata": {},
     "output_type": "execute_result"
    }
   ],
   "source": [
    "ghz = QuantumCircuit(3)\n",
    "\n",
    "##############################\n",
    "# add gates to your circuit here\n",
    "ghz.h(0)\n",
    "ghz.cx(0,1)\n",
    "ghz.cx(0,2)\n",
    "##############################\n",
    "\n",
    "ghz.draw(output='mpl')\n"
   ],
   "metadata": {
    "collapsed": false,
    "pycharm": {
     "name": "#%%\n"
    }
   }
  },
  {
   "cell_type": "markdown",
   "source": [
    "## Measuring Quantum states\n",
    "As explained in the lectures you can find the probability of measurement outcomes by taking the absolute value squared of the entries of a quantum state vector.\n",
    "\n",
    "For example, when measuring the + state:\n",
    "\n",
    "$ |+\\rangle = \\frac{1}{\\sqrt2}|0\\rangle + \\frac{1}{\\sqrt2}|1\\rangle $\n",
    "\n",
    "The probability of measuring 0 or 1 is given by the following:\n",
    "\n",
    "$ Pr(0) = |\\frac{1}{\\sqrt2}|^2 = \\frac{1}{2}$\n",
    "$ Pr(1) = |\\frac{1}{\\sqrt2}|^2 = \\frac{1}{2}$"
   ],
   "metadata": {
    "collapsed": false
   }
  },
  {
   "cell_type": "markdown",
   "source": [
    "Let's create a $|+\\rangle$ using the `Statevector` class:"
   ],
   "metadata": {
    "collapsed": false
   }
  },
  {
   "cell_type": "code",
   "execution_count": 67,
   "outputs": [
    {
     "data": {
      "text/plain": "<IPython.core.display.Latex object>",
      "text/latex": "$$\\frac{\\sqrt{2}}{2} |0\\rangle+\\frac{\\sqrt{2}}{2} |1\\rangle$$"
     },
     "execution_count": 67,
     "metadata": {},
     "output_type": "execute_result"
    }
   ],
   "source": [
    "plus_state = Statevector.from_label(\"+\")\n",
    "plus_state.draw(\"latex\")"
   ],
   "metadata": {
    "collapsed": false,
    "pycharm": {
     "name": "#%%\n"
    }
   }
  },
  {
   "cell_type": "code",
   "execution_count": 68,
   "outputs": [
    {
     "name": "stdout",
     "output_type": "stream",
     "text": [
      "Statevector([0.70710678+0.j, 0.70710678+0.j],\n",
      "            dims=(2,))\n"
     ]
    }
   ],
   "source": [
    "plus_state"
   ],
   "metadata": {
    "collapsed": false,
    "pycharm": {
     "name": "#%%\n"
    }
   }
  },
  {
   "cell_type": "markdown",
   "source": [
    "Now we can get the probability of measuring 0 or 1:"
   ],
   "metadata": {
    "collapsed": false
   }
  },
  {
   "cell_type": "code",
   "execution_count": 69,
   "outputs": [
    {
     "data": {
      "text/plain": "{'0': 0.4999999999999999, '1': 0.4999999999999999}"
     },
     "execution_count": 69,
     "metadata": {},
     "output_type": "execute_result"
    }
   ],
   "source": [
    "plus_state.probabilities_dict()"
   ],
   "metadata": {
    "collapsed": false,
    "pycharm": {
     "name": "#%%\n"
    }
   }
  },
  {
   "cell_type": "markdown",
   "source": [
    "The dictionary object above shows you all the possible measurement outcomes and what the probability is of getting them. The actual act of measuring forces the state to collapse into either the 0 or 1 state:"
   ],
   "metadata": {
    "collapsed": false
   }
  },
  {
   "cell_type": "code",
   "execution_count": 73,
   "outputs": [
    {
     "data": {
      "text/plain": "('1',\n Statevector([0.+0.j, 1.+0.j],\n             dims=(2,)))"
     },
     "execution_count": 73,
     "metadata": {},
     "output_type": "execute_result"
    }
   ],
   "source": [
    "# run this cell multiple times to show collapsing into one state or the other\n",
    "res = plus_state.measure()\n",
    "\n",
    "res"
   ],
   "metadata": {
    "collapsed": false,
    "pycharm": {
     "name": "#%%\n"
    }
   }
  },
  {
   "cell_type": "markdown",
   "source": [],
   "metadata": {
    "collapsed": false
   }
  },
  {
   "cell_type": "markdown",
   "source": [
    "We can implement the same $|+\\rangle$ state with measurement using a quantum circuit:"
   ],
   "metadata": {
    "collapsed": false,
    "pycharm": {
     "name": "#%% md\n"
    }
   }
  },
  {
   "cell_type": "code",
   "execution_count": 75,
   "outputs": [
    {
     "data": {
      "text/plain": "<Figure size 269.064x200.667 with 1 Axes>",
      "image/png": "[encoded data removed]"
     },
     "execution_count": 75,
     "metadata": {},
     "output_type": "execute_result"
    }
   ],
   "source": [
    "qc = QuantumCircuit(1,1)\n",
    "qc.h(0)\n",
    "qc.measure(0,0)\n",
    "\n",
    "qc.draw(output=\"mpl\")"
   ],
   "metadata": {
    "collapsed": false,
    "pycharm": {
     "name": "#%%\n"
    }
   }
  },
  {
   "cell_type": "markdown",
   "source": [
    "If we ran this circuit using a simulator we would get the same results as we did with the statevector class."
   ],
   "metadata": {
    "collapsed": false
   }
  },
  {
   "cell_type": "markdown",
   "source": [
    "In the next example, let's use the `Statevector` class to find the measurement outcomes for a dependent, probabilistic state. We'll find the measurement probilities for the 2-qubit Bell State $|\\phi^+\\rangle$ :"
   ],
   "metadata": {
    "collapsed": false
   }
  },
  {
   "cell_type": "code",
   "execution_count": 76,
   "outputs": [
    {
     "data": {
      "text/plain": "<IPython.core.display.Latex object>",
      "text/latex": "$$\\frac{\\sqrt{2}}{2} |00\\rangle+\\frac{\\sqrt{2}}{2} |11\\rangle$$"
     },
     "execution_count": 76,
     "metadata": {},
     "output_type": "execute_result"
    }
   ],
   "source": [
    "sv_bell = Statevector([np.sqrt(1/2),0,0,np.sqrt(1/2)])\n",
    "sv_bell.draw(\"latex\")"
   ],
   "metadata": {
    "collapsed": false,
    "pycharm": {
     "name": "#%%\n"
    }
   }
  },
  {
   "cell_type": "code",
   "execution_count": 77,
   "outputs": [
    {
     "data": {
      "text/plain": "{'00': 0.5000000000000001, '11': 0.5000000000000001}"
     },
     "execution_count": 77,
     "metadata": {},
     "output_type": "execute_result"
    }
   ],
   "source": [
    "sv_bell.probabilities_dict()"
   ],
   "metadata": {
    "collapsed": false,
    "pycharm": {
     "name": "#%%\n"
    }
   }
  },
  {
   "cell_type": "markdown",
   "source": [
    "<div class=\"alert alert-block alert-success\"> Ex 9 - Using the Statevector class find the probabilities for the other 3 states in the Bell Basis: $|\\psi^+\\rangle$, $|\\psi^-\\rangle$, $|\\phi^-\\rangle$. Hint: check out lesson 2 to refresh your memory on the equations of the Bell states </div>"
   ],
   "metadata": {
    "collapsed": false
   }
  },
  {
   "cell_type": "code",
   "execution_count": 78,
   "outputs": [],
   "source": [
    "sv_psi_plus = Statevector([0,np.sqrt(1/2),-np.sqrt(1/2),0])# create a statevector for |𝜓+⟩ here\n",
    "prob_psi_plus = sv_psi_plus.probabilities_dict()# find the measurement probabilities for |𝜓+⟩ here\n",
    "\n",
    "sv_psi_minus = Statevector([0,np.sqrt(1/2),np.sqrt(1/2),0])# create a statevector for |𝜓−⟩ here\n",
    "prob_psi_minus = sv_psi_minus.probabilities_dict()# find the measurement probabilities for |𝜓−⟩ here\n",
    "\n",
    "sv_phi_minus = Statevector([np.sqrt(1/2),0,0,-np.sqrt(1/2)])# create a statevector for |𝜙−⟩ here\n",
    "prob_phi_minus = sv_phi_minus.probabilities_dict()# find the measurement probabilities for |𝜙−⟩ here"
   ],
   "metadata": {
    "collapsed": false,
    "pycharm": {
     "name": "#%%\n"
    }
   }
  },
  {
   "cell_type": "markdown",
   "source": [
    "# Final Challenge - generate a QFT circuit\n",
    "\n",
    "[The Fourier transform](https://en.wikipedia.org/wiki/Fourier_transform) occurs in many different formats throughout classical computing, in areas ranging from signal processing to data compression to complexity theory. The quantum Fourier transform (QFT) is the quantum implementation of the discrete Fourier transform over the amplitudes of a wavefunction. It is part of many quantum algorithms, most notably Shor's factoring algorithm and quantum phase estimation. You'll learn more about this important implementation later on during the Summer School, but for this final challenge of Lab 1 we would like you to use Qiskit to create the following QFT circuit on 2 qubits:\n",
    "\n",
    "![](resources/qft.png)"
   ],
   "metadata": {
    "collapsed": false
   }
  },
  {
   "cell_type": "markdown",
   "source": [
    "<div class=\"alert alert-block alert-success\"> Ex 10 - create a 2 qubit QFT circuit using qiskit </div>"
   ],
   "metadata": {
    "collapsed": false
   }
  },
  {
   "cell_type": "code",
   "execution_count": 89,
   "outputs": [
    {
     "data": {
      "text/plain": "<Figure size 538.128x200.667 with 1 Axes>",
      "image/png": "[encoded data removed]"
     },
     "execution_count": 89,
     "metadata": {},
     "output_type": "execute_result"
    }
   ],
   "source": [
    "qft = QuantumCircuit(2)\n",
    "\n",
    "##############################\n",
    "# add gates to your circuit here\n",
    "qft.h(1)\n",
    "#qft.cz(0,1)\n",
    "qft.cp(np.pi/2,0,1)\n",
    "qft.h(0)\n",
    "qft.swap(0,1)\n",
    "##############################\n",
    "\n",
    "qft.draw(output='mpl')"
   ],
   "metadata": {
    "collapsed": false,
    "pycharm": {
     "name": "#%%\n"
    }
   }
  },
  {
   "cell_type": "markdown",
   "source": [
    "To see the matrix that describes the action of this circuit, we can plug the circuit into the `Operator` function like this:"
   ],
   "metadata": {
    "collapsed": false,
    "pycharm": {
     "name": "#%% md\n"
    }
   }
  },
  {
   "cell_type": "code",
   "execution_count": 88,
   "outputs": [
    {
     "data": {
      "text/plain": "<IPython.core.display.Latex object>",
      "text/latex": "$$\n\n\\begin{bmatrix}\n\\frac{1}{2} & \\frac{1}{2} & \\frac{1}{2} & \\frac{1}{2}  \\\\\n \\frac{1}{2} & - \\frac{1}{2} & - \\frac{1}{2} & \\frac{1}{2}  \\\\\n \\frac{1}{2} & - \\frac{1}{2} & \\frac{1}{2} & - \\frac{1}{2}  \\\\\n \\frac{1}{2} & \\frac{1}{2} & - \\frac{1}{2} & - \\frac{1}{2}  \\\\\n \\end{bmatrix}\n$$"
     },
     "execution_count": 88,
     "metadata": {},
     "output_type": "execute_result"
    }
   ],
   "source": [
    "U = Operator(qft)\n",
    "array_to_latex(U)"
   ],
   "metadata": {
    "collapsed": false,
    "pycharm": {
     "name": "#%%\n"
    }
   }
  },
  {
   "cell_type": "code",
   "execution_count": null,
   "outputs": [],
   "source": [],
   "metadata": {
    "collapsed": false,
    "pycharm": {
     "name": "#%%\n"
    }
   }
  }
 ],
 "metadata": {
  "kernelspec": {
   "display_name": "Python 3",
   "language": "python",
   "name": "python3"
  },
  "language_info": {
   "codemirror_mode": {
    "name": "ipython",
    "version": 2
   },
   "file_extension": ".py",
   "mimetype": "text/x-python",
   "name": "python",
   "nbconvert_exporter": "python",
   "pygments_lexer": "ipython2",
   "version": "2.7.6"
  }
 },
 "nbformat": 4,
 "nbformat_minor": 0
}